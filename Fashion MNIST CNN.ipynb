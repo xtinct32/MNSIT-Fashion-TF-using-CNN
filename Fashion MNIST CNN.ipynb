{
 "cells": [
  {
   "cell_type": "code",
   "execution_count": 1,
   "metadata": {},
   "outputs": [],
   "source": [
    "import numpy as np\n",
    "from tensorflow import keras\n",
    "from tensorflow.keras import backend as K\n",
    "from tensorflow.keras.models import Model, Sequential\n",
    "from tensorflow.keras.layers import Dense, Dropout, Flatten, Conv2D, MaxPool2D, Input\n",
    "from tensorflow.keras.datasets import fashion_mnist"
   ]
  },
  {
   "cell_type": "code",
   "execution_count": 2,
   "metadata": {},
   "outputs": [
    {
     "data": {
      "text/plain": [
       "((60000, 28, 28), (10000, 28, 28), (60000,), (10000,))"
      ]
     },
     "execution_count": 2,
     "metadata": {},
     "output_type": "execute_result"
    }
   ],
   "source": [
    "# Data processing\n",
    "\n",
    "(x_train, y_train), (x_test, y_test) = fashion_mnist.load_data()\n",
    "x_train = x_train.astype('float32') / 255.0\n",
    "x_test = x_test.astype('float32') / 255.0\n",
    "\n",
    "x_train.shape, x_test.shape, y_train.shape, y_test.shape"
   ]
  },
  {
   "cell_type": "code",
   "execution_count": 3,
   "metadata": {},
   "outputs": [],
   "source": [
    "input_shape = (x_train.shape[1:] + (1,)) # (28, 28, 1)\n",
    "num_classes = len(np.unique(y_train))  # 10"
   ]
  },
  {
   "cell_type": "code",
   "execution_count": 5,
   "metadata": {},
   "outputs": [
    {
     "data": {
      "text/plain": [
       "10"
      ]
     },
     "execution_count": 5,
     "metadata": {},
     "output_type": "execute_result"
    }
   ],
   "source": [
    "num_classes"
   ]
  },
  {
   "cell_type": "markdown",
   "metadata": {},
   "source": [
    "#input_shape is a tuple telling the model about the shape of the input it will be getting. \n",
    "#Note that instead of (28 x 28) we have the shape as (28 x 28 x 1). This is necessary because 2D CNNs accept \n",
    "#3D input tensors. Since our images are grayscale we need to add a dimension at the end. If our images were \n",
    "#colored then their shape would be (28 x 28 x 3), 3 because there are 3 color channels Red, Green and Blue. "
   ]
  },
  {
   "cell_type": "code",
   "execution_count": 6,
   "metadata": {},
   "outputs": [],
   "source": [
    "# One hot encoding because we use categorical_crossentropy loss when training the model.\n",
    "y_train = keras.utils.to_categorical(y_train, num_classes)\n",
    "y_test = keras.utils.to_categorical(y_test, num_classes)"
   ]
  },
  {
   "cell_type": "code",
   "execution_count": 10,
   "metadata": {},
   "outputs": [
    {
     "data": {
      "text/plain": [
       "array([[0., 0., 0., ..., 0., 0., 1.],\n",
       "       [1., 0., 0., ..., 0., 0., 0.],\n",
       "       [1., 0., 0., ..., 0., 0., 0.],\n",
       "       ...,\n",
       "       [0., 0., 0., ..., 0., 0., 0.],\n",
       "       [1., 0., 0., ..., 0., 0., 0.],\n",
       "       [0., 0., 0., ..., 0., 0., 0.]], dtype=float32)"
      ]
     },
     "execution_count": 10,
     "metadata": {},
     "output_type": "execute_result"
    }
   ],
   "source": [
    "y_train"
   ]
  },
  {
   "cell_type": "code",
   "execution_count": 11,
   "metadata": {},
   "outputs": [
    {
     "name": "stdout",
     "output_type": "stream",
     "text": [
      "Model: \"functional_1\"\n",
      "_________________________________________________________________\n",
      "Layer (type)                 Output Shape              Param #   \n",
      "=================================================================\n",
      "input_1 (InputLayer)         [(None, 28, 28, 1)]       0         \n",
      "_________________________________________________________________\n",
      "conv2d (Conv2D)              (None, 26, 26, 32)        320       \n",
      "_________________________________________________________________\n",
      "conv2d_1 (Conv2D)            (None, 24, 24, 64)        18496     \n",
      "_________________________________________________________________\n",
      "max_pooling2d (MaxPooling2D) (None, 12, 12, 64)        0         \n",
      "_________________________________________________________________\n",
      "dropout (Dropout)            (None, 12, 12, 64)        0         \n",
      "_________________________________________________________________\n",
      "flatten (Flatten)            (None, 9216)              0         \n",
      "_________________________________________________________________\n",
      "dense (Dense)                (None, 128)               1179776   \n",
      "_________________________________________________________________\n",
      "dropout_1 (Dropout)          (None, 128)               0         \n",
      "_________________________________________________________________\n",
      "dense_1 (Dense)              (None, 10)                1290      \n",
      "=================================================================\n",
      "Total params: 1,199,882\n",
      "Trainable params: 1,199,882\n",
      "Non-trainable params: 0\n",
      "_________________________________________________________________\n"
     ]
    }
   ],
   "source": [
    "inp = Input(shape=input_shape)\n",
    "_ = Conv2D(filters=32, kernel_size=(3, 3), activation='relu')(inp)\n",
    "_ = Conv2D(filters=64, kernel_size=(3, 3), activation='relu')(_)\n",
    "_ = MaxPool2D(pool_size=(2, 2))(_)\n",
    "_ = Dropout(0.25)(_)\n",
    "_ = Flatten()(_)\n",
    "_ = Dense(units=128, activation='relu')(_)\n",
    "_ = Dropout(0.2)(_)\n",
    "_ = Dense(units=num_classes, activation='softmax')(_)\n",
    "model = Model(inputs=inp, outputs=_)\n",
    "model.summary()"
   ]
  },
  {
   "cell_type": "code",
   "execution_count": 12,
   "metadata": {},
   "outputs": [
    {
     "name": "stdout",
     "output_type": "stream",
     "text": [
      "Epoch 1/12\n",
      "329/329 [==============================] - 34s 105ms/step - loss: 0.4971 - accuracy: 0.8225 - val_loss: 0.3265 - val_accuracy: 0.8813\n",
      "Epoch 2/12\n",
      "329/329 [==============================] - 35s 107ms/step - loss: 0.3132 - accuracy: 0.8871 - val_loss: 0.2700 - val_accuracy: 0.9027\n",
      "Epoch 3/12\n",
      "329/329 [==============================] - 43s 131ms/step - loss: 0.2595 - accuracy: 0.9046 - val_loss: 0.2548 - val_accuracy: 0.9078\n",
      "Epoch 4/12\n",
      "329/329 [==============================] - 39s 120ms/step - loss: 0.2233 - accuracy: 0.9171 - val_loss: 0.2403 - val_accuracy: 0.9132\n",
      "Epoch 5/12\n",
      "329/329 [==============================] - 37s 113ms/step - loss: 0.1961 - accuracy: 0.9280 - val_loss: 0.2301 - val_accuracy: 0.9164\n",
      "Epoch 6/12\n",
      "329/329 [==============================] - 38s 116ms/step - loss: 0.1733 - accuracy: 0.9355 - val_loss: 0.2402 - val_accuracy: 0.9156\n",
      "Epoch 7/12\n",
      "329/329 [==============================] - 38s 115ms/step - loss: 0.1526 - accuracy: 0.9426 - val_loss: 0.2353 - val_accuracy: 0.9193\n",
      "Epoch 8/12\n",
      "329/329 [==============================] - 39s 117ms/step - loss: 0.1358 - accuracy: 0.9508 - val_loss: 0.2362 - val_accuracy: 0.9224\n",
      "Epoch 9/12\n",
      "329/329 [==============================] - 40s 121ms/step - loss: 0.1192 - accuracy: 0.9557 - val_loss: 0.2326 - val_accuracy: 0.9263\n",
      "Epoch 10/12\n",
      "329/329 [==============================] - 39s 119ms/step - loss: 0.1041 - accuracy: 0.9603 - val_loss: 0.2463 - val_accuracy: 0.9213\n",
      "Epoch 11/12\n",
      "329/329 [==============================] - 38s 117ms/step - loss: 0.0943 - accuracy: 0.9661 - val_loss: 0.2357 - val_accuracy: 0.9252\n",
      "Epoch 12/12\n",
      "329/329 [==============================] - 40s 122ms/step - loss: 0.0820 - accuracy: 0.9697 - val_loss: 0.2558 - val_accuracy: 0.9250\n"
     ]
    }
   ],
   "source": [
    "model.compile(loss=keras.losses.categorical_crossentropy,\n",
    "              optimizer=keras.optimizers.Adam(), metrics=['accuracy'])\n",
    "history = model.fit(np.expand_dims(x_train, -1), y_train, batch_size=128, epochs=12, validation_split=0.3)"
   ]
  },
  {
   "cell_type": "code",
   "execution_count": 13,
   "metadata": {},
   "outputs": [
    {
     "name": "stdout",
     "output_type": "stream",
     "text": [
      "0.27842530608177185 0.9230999946594238\n"
     ]
    }
   ],
   "source": [
    "loss, accuracy = model.evaluate(np.expand_dims(x_test, -1), y_test, verbose=0)\n",
    "print(loss, accuracy)"
   ]
  },
  {
   "cell_type": "code",
   "execution_count": 14,
   "metadata": {},
   "outputs": [
    {
     "data": {
      "text/plain": [
       "<matplotlib.legend.Legend at 0x7faf7eb9ad90>"
      ]
     },
     "execution_count": 14,
     "metadata": {},
     "output_type": "execute_result"
    },
    {
     "data": {
      "image/png": "[encoded data removed]",
      "text/plain": [
       "<Figure size 1008x360 with 2 Axes>"
      ]
     },
     "metadata": {
      "needs_background": "light"
     },
     "output_type": "display_data"
    }
   ],
   "source": [
    "import matplotlib.pyplot as plt\n",
    "%matplotlib inline\n",
    "\n",
    "fig, (ax1, ax2) = plt.subplots(nrows=1, ncols=2, figsize=(14, 5))\n",
    "ax1.plot(history.history['loss'], label='Train Loss')\n",
    "ax1.plot(history.history['val_loss'], label='Val Loss')\n",
    "ax1.legend()\n",
    "ax2.plot(history.history['accuracy'], label='Train Accuracy')\n",
    "ax2.plot(history.history['val_accuracy'], label='Val Accuracy')\n",
    "ax2.legend()"
   ]
  }
 ],
 "metadata": {
  "kernelspec": {
   "display_name": "Python 3",
   "language": "python",
   "name": "python3"
  },
  "language_info": {
   "codemirror_mode": {
    "name": "ipython",
    "version": 3
   },
   "file_extension": ".py",
   "mimetype": "text/x-python",
   "name": "python",
   "nbconvert_exporter": "python",
   "pygments_lexer": "ipython3",
   "version": "3.7.6"
  }
 },
 "nbformat": 4,
 "nbformat_minor": 4
}
